{
 "cells": [
  {
   "metadata": {
    "trusted": true,
    "pycharm": {
     "name": "#%%\n"
    }
   },
   "cell_type": "code",
   "source": [
    "# using my version - getting color\n",
    "import bitranox_coloredlogs\n",
    "import sys\n",
    "import logging\n",
    "logger=logging.getLogger()\n",
    "bitranox_coloredlogs.install(logger=logger, stream=sys.stdout, isatty=True)\n",
    "logger.error('some test')"
   ],
   "execution_count": null,
   "outputs": []
  },
  {
   "cell_type": "code",
   "execution_count": null,
   "outputs": [],
   "source": [
    "# using xolox original version . no color !\n",
    "!{sys.executable} -m pip install coloredlogs\n"
   ],
   "metadata": {
    "collapsed": false,
    "pycharm": {
     "name": "#%%\n"
    }
   }
  },
  {
   "cell_type": "code",
   "execution_count": null,
   "outputs": [],
   "source": [
    "import coloredlogs\n",
    "logger=logging.getLogger()\n",
    "coloredlogs.install(logger=logger, stream=sys.stdout, isatty=True)\n",
    "logger.error('some test')\n"
   ],
   "metadata": {
    "collapsed": false,
    "pycharm": {
     "name": "#%%\n"
    }
   }
  }
 ],
 "metadata": {
  "language_info": {
   "name": "python",
   "version": "3.7.6",
   "mimetype": "text/x-python",
   "codemirror_mode": {
    "name": "ipython",
    "version": 3
   },
   "pygments_lexer": "ipython3",
   "nbconvert_exporter": "python",
   "file_extension": ".py"
  },
  "kernelspec": {
   "name": "python3",
   "display_name": "Python 3",
   "language": "python"
  }
 },
 "nbformat": 4,
 "nbformat_minor": 4
}